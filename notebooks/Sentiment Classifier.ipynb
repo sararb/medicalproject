{
 "cells": [
  {
   "cell_type": "code",
   "execution_count": 141,
   "metadata": {
    "collapsed": false
   },
   "outputs": [
    {
     "name": "stdout",
     "output_type": "stream",
     "text": [
      "[Errno 2] No such file or directory: 'Documents/TP_text/'\n",
      "/Users/sara/Documents/TP_text/data\n"
     ]
    }
   ],
   "source": [
    "cd Documents/TP_text/"
   ]
  },
  {
   "cell_type": "code",
   "execution_count": 430,
   "metadata": {
    "collapsed": true
   },
   "outputs": [],
   "source": [
    "import os.path as op\n",
    "import numpy as np\n",
    "import codecs\n",
    "import pandas as pd \n",
    "import numpy as np \n",
    "import nltk \n",
    "import re\n",
    "import string\n",
    "from nltk.stem.snowball import FrenchStemmer\n",
    "from nltk.stem.snowball import SnowballStemmer\n",
    "from nltk.corpus import stopwords\n",
    "from nltk.tokenize.texttiling import TextTilingTokenizer\n",
    "from nltk.collocations import *\n",
    "import urllib\n",
    "import requests\n",
    "import json\n",
    "import unicodedata\n",
    "import os\n",
    "from nltk.stem import WordNetLemmatizer\n",
    "%matplotlib inline\n",
    "from sklearn.base import BaseEstimator, ClassifierMixin"
   ]
  },
  {
   "cell_type": "code",
   "execution_count": 431,
   "metadata": {
    "collapsed": false
   },
   "outputs": [
    {
     "name": "stdout",
     "output_type": "stream",
     "text": [
      "[Errno 2] No such file or directory: 'data/'\n",
      "/Users/sara/Documents/TP_text/data\n"
     ]
    }
   ],
   "source": [
    "cd data/"
   ]
  },
  {
   "cell_type": "code",
   "execution_count": 432,
   "metadata": {
    "collapsed": false
   },
   "outputs": [
    {
     "name": "stdout",
     "output_type": "stream",
     "text": [
      "Loading dataset\n",
      "2000 documents\n"
     ]
    }
   ],
   "source": [
    "###############################################################################\n",
    "# Load data\n",
    "print(\"Loading dataset\")\n",
    "\n",
    "from glob import glob\n",
    "filenames_neg = sorted(glob(op.join('..', 'data', 'imdb1', 'neg', '*.txt')))\n",
    "filenames_pos = sorted(glob(op.join('..', 'data', 'imdb1', 'pos', '*.txt')))\n",
    "\n",
    "texts_neg = [open(f).read() for f in filenames_neg]\n",
    "texts_pos = [open(f).read() for f in filenames_pos]\n",
    "texts = texts_neg + texts_pos\n",
    "y = np.ones(len(texts), dtype=np.int)\n",
    "y[:len(texts_neg)] = 0.\n",
    "\n",
    "print(\"%d documents\" % len(texts))\n",
    "\n",
    "############################################"
   ]
  },
  {
   "cell_type": "markdown",
   "metadata": {},
   "source": [
    "Build the classifier : "
   ]
  },
  {
   "cell_type": "code",
   "execution_count": 433,
   "metadata": {
    "collapsed": true
   },
   "outputs": [],
   "source": [
    "def chunk_mot(phrases):\n",
    "    \"\"\"split text to a set of words : bag-of-words\"\"\"\n",
    "    mots = nltk.word_tokenize(phrases) \n",
    "    return mots \n",
    "\n",
    "def no_punctuation(mots):\n",
    "    \"\"\"return the set of words without puntctuation marks \"\"\"\n",
    "    regex =  re.compile('[%s]' % re.escape(string.punctuation))\n",
    "    mots_no_punctuation = []\n",
    "    for token in mots: \n",
    "        new_token = regex.sub(u'', token)\n",
    "        if not new_token == u'':\n",
    "            mots_no_punctuation.append(new_token.lower()) #lower pour normaliser le texte\n",
    "    return mots_no_punctuation\n",
    "\n",
    "def delete_stop_words(mots):\n",
    "    \"\"\"return the set of words without insignifiant words like : le , de, ces, the... \n",
    "    \"\"\"\n",
    "    stops= set(stopwords.words('french')+stopwords.words('english'))\n",
    "    mots_no_stopwords = []\n",
    "    for mot in mots:\n",
    "        if not mot in stops:\n",
    "                mots_no_stopwords.append(mot)\n",
    "    return mots_no_stopwords\n",
    "\n",
    "def word_stemmer(mots, ):\n",
    "    snowball = SnowballStemmer('english') # for english use Porter stem algo\n",
    "    preprocessed_docs = []\n",
    "    for mot in mots:\n",
    "        preprocessed_docs.append(snowball.stem(mot))   \n",
    "    return preprocessed_docs\n",
    "\n",
    "def word_lemmatizer(mots): \n",
    "    lemmat = WordNetLemmatizer()\n",
    "    preprocessed_docs = []\n",
    "    for mot in mots:\n",
    "        preprocessed_docs.append(lemmat.lemmatize(mot))   \n",
    "    return preprocessed_docs \n",
    "    \n",
    "def clean_text(text, lemma = False, stemm = False ): \n",
    "    text_chunk = chunk_mot(text)\n",
    "    text_punct = no_punctuation(text_chunk)\n",
    "    text_f = delete_stop_words(text_punct)\n",
    "    if lemma:\n",
    "        text_f = word_lemmatizer(text_f)\n",
    "    if stemm: \n",
    "        text_f = word_stemmer(text_f)\n",
    "    #reconstruct the text\n",
    "    textn = ' '.join(text_f)\n",
    "    return textn"
   ]
  },
  {
   "cell_type": "markdown",
   "metadata": {},
   "source": [
    "**1st Step : Clean the documents **"
   ]
  },
  {
   "cell_type": "code",
   "execution_count": 434,
   "metadata": {
    "collapsed": false
   },
   "outputs": [
    {
     "data": {
      "text/plain": [
       "'the happy bastard\\'s quick movie review \\ndamn that y2k bug . \\nit\\'s got a head start in this movie starring jamie lee curtis and another baldwin brother ( william this time ) in a story regarding a crew of a tugboat that comes across a deserted russian tech ship that has a strangeness to it when they kick the power back on . \\nlittle do they know the power within . . . \\ngoing for the gore and bringing on a few action sequences here and there , virus still feels very empty , like a movie going for all flash and no substance . \\nwe don\\'t know why the crew was really out in the middle of nowhere , we don\\'t know the origin of what took over the ship ( just that a big pink flashy thing hit the mir ) , and , of course , we don\\'t know why donald sutherland is stumbling around drunkenly throughout . \\nhere , it\\'s just \" hey , let\\'s chase these people around with some robots \" . \\nthe acting is below average , even from the likes of curtis . \\nyou\\'re more likely to get a kick out of her work in halloween h20 . \\nsutherland is wasted and baldwin , well , he\\'s acting like a baldwin , of course . \\nthe real star here are stan winston\\'s robot design , some schnazzy cgi , and the occasional good gore shot , like picking into someone\\'s brain . \\nso , if robots and body parts really turn you on , here\\'s your movie . \\notherwise , it\\'s pretty much a sunken ship of a movie . \\n'"
      ]
     },
     "execution_count": 434,
     "metadata": {},
     "output_type": "execute_result"
    }
   ],
   "source": [
    "texts[1]"
   ]
  },
  {
   "cell_type": "code",
   "execution_count": 435,
   "metadata": {
    "collapsed": false
   },
   "outputs": [],
   "source": [
    "texts = map(clean_text,texts)"
   ]
  },
  {
   "cell_type": "code",
   "execution_count": 436,
   "metadata": {
    "collapsed": false
   },
   "outputs": [
    {
     "data": {
      "text/plain": [
       "u'happy bastard quick movie review damn y2k bug got head start movie starring jamie lee curtis another baldwin brother william time story regarding crew tugboat comes across deserted russian tech ship strangeness kick power back little know power within going gore bringing action sequences virus still feels empty like movie going flash substance nt know crew really middle nowhere nt know origin took ship big pink flashy thing hit mir course nt know donald sutherland stumbling around drunkenly throughout hey let chase people around robots acting average even likes curtis re likely get kick work halloween h20 sutherland wasted baldwin well acting like baldwin course real star stan winston robot design schnazzy cgi occasional good gore shot like picking someone brain robots body parts really turn movie otherwise pretty much sunken ship movie'"
      ]
     },
     "execution_count": 436,
     "metadata": {},
     "output_type": "execute_result"
    }
   ],
   "source": [
    "texts[1]"
   ]
  },
  {
   "cell_type": "markdown",
   "metadata": {},
   "source": [
    "**2ndstep : construct the vocab & define the sparse matrix count **"
   ]
  },
  {
   "cell_type": "code",
   "execution_count": 437,
   "metadata": {
    "collapsed": false
   },
   "outputs": [],
   "source": [
    "from sklearn.feature_extraction.text import TfidfVectorizer\n",
    "def count_words(texts,max_df,min_df):\n",
    "    \"\"\"Vectorize text : return count of each word in the text snippets\n",
    "    Parameters\n",
    "    ----------\n",
    "    texts : list of str\n",
    "        The texts (documents)\n",
    "    max_df :\n",
    "    min_df : \n",
    "\n",
    "    Returns\n",
    "    -------\n",
    "    vocabulary : array that contains the list of words.\n",
    "    counts : ndarray, shape (n_samples, n_features) : sparse matrix \n",
    "        The counts of each word in each text.\n",
    "        n_samples == number of documents.\n",
    "        n_features == number of words in vocabulary.\n",
    "    \"\"\"\n",
    "    #texts = map(clean_text,texts)  #----if the text is not already cleaned \n",
    "    vectorizer = TfidfVectorizer(max_df=max_df, min_df=min_df)\n",
    "    counts = vectorizer.fit_transform(texts)\n",
    "    vocabulary = np.array(vectorizer.get_feature_names())\n",
    "    return counts, vocabulary"
   ]
  },
  {
   "cell_type": "code",
   "execution_count": 619,
   "metadata": {
    "collapsed": false
   },
   "outputs": [],
   "source": [
    "X,vocabulary = count_words(texts,0.8,3)"
   ]
  },
  {
   "cell_type": "code",
   "execution_count": 620,
   "metadata": {
    "collapsed": false
   },
   "outputs": [
    {
     "data": {
      "text/plain": [
       "<2000x18813 sparse matrix of type '<type 'numpy.float64'>'\n",
       "\twith 495929 stored elements in Compressed Sparse Row format>"
      ]
     },
     "execution_count": 620,
     "metadata": {},
     "output_type": "execute_result"
    }
   ],
   "source": [
    "X"
   ]
  },
  {
   "cell_type": "markdown",
   "metadata": {
    "collapsed": true
   },
   "source": [
    "**3rd step : Reduce the vocabulary and the sparse matrix : CHi-2 test **"
   ]
  },
  {
   "cell_type": "code",
   "execution_count": 256,
   "metadata": {
    "collapsed": true
   },
   "outputs": [],
   "source": [
    "from sklearn.feature_selection import SelectKBest, chi2\n",
    "def chi2_test(X, y,vocabulary, k):\n",
    "    \"\"\"Vectorize text : return count of each word in the text snippets\n",
    "    Parameters\n",
    "    ----------\n",
    "    X: sparse matrix : bag-of-words\n",
    "    y: the labels vector : class of each document\n",
    "    vocabulary : array that contains the list of words.\n",
    "    k : integer to set the k-most informative features \n",
    "\n",
    "    Returns\n",
    "    -------\n",
    "    X: sparse matrix of the k-best words\n",
    "    vocabulary : array\n",
    "        \n",
    "    counts : ndarray, shape (n_samples, n_features) : sparse matrix \n",
    "        The counts of each word in each text.\n",
    "        n_samples == number of documents.\n",
    "        n_features == number of words in vocabulary.\n",
    "    \"\"\"\n",
    "    print(\"Extracting %d best features by a chi-squared test\" % k)\n",
    "    ch2 = SelectKBest(chi2, k=k)\n",
    "    X = ch2.fit_transform(X, y)\n",
    "    'keep selected feature names'\n",
    "    vocabulary = [vocabulary[i] for i in ch2.get_support(indices=True)]\n",
    "    return X, vocabulary"
   ]
  },
  {
   "cell_type": "code",
   "execution_count": 257,
   "metadata": {
    "collapsed": false
   },
   "outputs": [
    {
     "name": "stdout",
     "output_type": "stream",
     "text": [
      "Extracting 2000 best features by a chi-squared test\n"
     ]
    }
   ],
   "source": [
    "X,vocabulary = chi2_test(X,y,vocabulary,2000)"
   ]
  },
  {
   "cell_type": "code",
   "execution_count": 258,
   "metadata": {
    "collapsed": false
   },
   "outputs": [
    {
     "data": {
      "text/plain": [
       "<2000x2000 sparse matrix of type '<type 'numpy.float64'>'\n",
       "\twith 91379 stored elements in Compressed Sparse Row format>"
      ]
     },
     "execution_count": 258,
     "metadata": {},
     "output_type": "execute_result"
    }
   ],
   "source": [
    "X"
   ]
  },
  {
   "cell_type": "code",
   "execution_count": 314,
   "metadata": {
    "collapsed": false
   },
   "outputs": [
    {
     "data": {
      "text/plain": [
       "18813"
      ]
     },
     "execution_count": 314,
     "metadata": {},
     "output_type": "execute_result"
    }
   ],
   "source": [
    "X.shape[1]"
   ]
  },
  {
   "cell_type": "code",
   "execution_count": 277,
   "metadata": {
    "collapsed": false
   },
   "outputs": [
    {
     "data": {
      "text/plain": [
       "(2000,)"
      ]
     },
     "execution_count": 277,
     "metadata": {},
     "output_type": "execute_result"
    }
   ],
   "source": [
    "y.shape"
   ]
  },
  {
   "cell_type": "markdown",
   "metadata": {},
   "source": [
    "**How to set k ? **"
   ]
  },
  {
   "cell_type": "code",
   "execution_count": 440,
   "metadata": {
    "collapsed": true
   },
   "outputs": [],
   "source": [
    "from sklearn.cross_validation import cross_val_score\n",
    "import operator\n",
    "def set_k(clf,X,y,vocabulary):\n",
    "    dicti={}\n",
    "    n = X.shape[1]\n",
    "    for k in np.arange(1000,n,1000):\n",
    "        ch2 = SelectKBest(chi2, k=k)\n",
    "        scores = cross_val_score(clf, ch2.fit_transform(X, y), y, scoring='accuracy', cv=5)\n",
    "        dicti[k] = scores.mean()\n",
    "        sorted_d = sorted(dicti.items(), key=operator.itemgetter(1))\n",
    "    return sorted_d[-1][0]"
   ]
  },
  {
   "cell_type": "code",
   "execution_count": 441,
   "metadata": {
    "collapsed": false
   },
   "outputs": [
    {
     "data": {
      "text/plain": [
       "3000"
      ]
     },
     "execution_count": 441,
     "metadata": {},
     "output_type": "execute_result"
    }
   ],
   "source": [
    "set_k(clf,X,y,vocabulary)"
   ]
  },
  {
   "cell_type": "markdown",
   "metadata": {},
   "source": [
    "#Conclusion : Features_selection"
   ]
  },
  {
   "cell_type": "code",
   "execution_count": 416,
   "metadata": {
    "collapsed": false
   },
   "outputs": [
    {
     "data": {
      "text/plain": [
       "MultinomialNB(alpha=1.0, class_prior=None, fit_prior=True)"
      ]
     },
     "execution_count": 416,
     "metadata": {},
     "output_type": "execute_result"
    }
   ],
   "source": [
    "clf = MultinomialNB()"
   ]
  },
  {
   "cell_type": "markdown",
   "metadata": {},
   "source": [
    "given a classfier and a given dataset, the following code compute the k-best features related to this classfier"
   ]
  },
  {
   "cell_type": "code",
   "execution_count": 621,
   "metadata": {
    "collapsed": false
   },
   "outputs": [
    {
     "name": "stdout",
     "output_type": "stream",
     "text": [
      "Extracting 3000 best features by a chi-squared test\n"
     ]
    }
   ],
   "source": [
    "X,vocabulary = chi2_test(X,y,vocabulary,k=set_k(clf,X,y,vocabulary))"
   ]
  },
  {
   "cell_type": "code",
   "execution_count": 622,
   "metadata": {
    "collapsed": false
   },
   "outputs": [
    {
     "data": {
      "text/plain": [
       "(2000, 3000)"
      ]
     },
     "execution_count": 622,
     "metadata": {},
     "output_type": "execute_result"
    }
   ],
   "source": [
    "X.shape"
   ]
  },
  {
   "cell_type": "markdown",
   "metadata": {},
   "source": [
    "**A benchmark of Classification **"
   ]
  },
  {
   "cell_type": "code",
   "execution_count": 390,
   "metadata": {
    "collapsed": false
   },
   "outputs": [],
   "source": [
    "#Benchmark of training and testing a classifier : \n",
    "from sklearn.cross_validation import train_test_split\n",
    "from sklearn import metrics\n",
    "import matplotlib.pyplot as plt\n",
    "from sklearn.learning_curve import learning_curve\n",
    "from time import time\n",
    "def benchmark(clf, X, y, learn_curve=False):\n",
    "    X_train, X_test, y_train, y_test = train_test_split(X, y, test_size=0.33, random_state=42)\n",
    "    categories = np.unique(y)\n",
    "    print('_' * 80)\n",
    "    print(\"Training: \")\n",
    "    print(clf)\n",
    "    t0 = time()\n",
    "    clf.fit(X_train, y_train)\n",
    "    train_time = time() - t0\n",
    "    print(\"train time: %0.3fs\" % train_time)\n",
    "\n",
    "    t0 = time()\n",
    "    pred = clf.predict(X_test)\n",
    "    test_time = time() - t0\n",
    "    print(\"test time:  %0.3fs\" % test_time)\n",
    "\n",
    "    score = metrics.accuracy_score(y_test, pred)\n",
    "    print(\"accuracy:   %0.3f\" % score)\n",
    "    print(\"classification report:\")\n",
    "    print(metrics.classification_report(y_test, pred))\n",
    "\n",
    "    def plot_learncurve(clf,X_train, y_train):\n",
    "        \"\"\"\n",
    "        :param clf:\n",
    "        :param x_train:\n",
    "        :param y_train:\n",
    "        :return:\n",
    "        \"\"\"\n",
    "        print(\"learning curve:\")\n",
    "        train_sizes, train_scores, test_scores = learning_curve(estimator=clf,X=X_train,y=y_train,train_sizes=np.linspace(0.1, 1.0, 10),cv=10,n_jobs=1)\n",
    "        train_mean = np.mean(train_scores, axis=1)\n",
    "        test_mean = np.mean(test_scores, axis=1)\n",
    "        plt.plot(train_sizes, train_mean,color='blue', marker='o',markersize=5,label='training accuracy')\n",
    "        plt.plot(train_sizes, test_mean,color='green', linestyle='--',marker='s', markersize=5,label='validation accuracy')\n",
    "        plt.grid()\n",
    "        plt.xlabel('Number of training samples')\n",
    "        plt.ylabel('Accuracy')\n",
    "        plt.legend(loc='lower right')\n",
    "        plt.ylim([0, 1.0])\n",
    "        plt.show()\n",
    "      \n",
    "        \n",
    "    if learn_curve:\n",
    "        plot_learncurve(clf, X_train, y_train)\n",
    "        \n",
    "    print(\"confusion matrix:\")\n",
    "    \n",
    "    print(metrics.confusion_matrix(y_test, pred))\n",
    "    print()\n",
    "    clf_descr = str(clf).split('(')[0]\n",
    "    return clf_descr, score, train_time, test_time"
   ]
  },
  {
   "cell_type": "markdown",
   "metadata": {},
   "source": [
    "**Naive Bayes Classifier:**"
   ]
  },
  {
   "cell_type": "code",
   "execution_count": 391,
   "metadata": {
    "collapsed": false
   },
   "outputs": [
    {
     "name": "stdout",
     "output_type": "stream",
     "text": [
      "________________________________________________________________________________\n",
      "Training: \n",
      "MultinomialNB(alpha=1.0, class_prior=None, fit_prior=True)\n",
      "train time: 0.001s\n",
      "test time:  0.000s\n",
      "accuracy:   0.900\n",
      "classification report:\n",
      "             precision    recall  f1-score   support\n",
      "\n",
      "          0       0.88      0.92      0.90       325\n",
      "          1       0.92      0.88      0.90       335\n",
      "\n",
      "avg / total       0.90      0.90      0.90       660\n",
      "\n",
      "learning curve:\n"
     ]
    },
    {
     "data": {
      "image/png": "[encoded data removed]",
      "text/plain": [
       "<matplotlib.figure.Figure at 0x1273ba9d0>"
      ]
     },
     "metadata": {},
     "output_type": "display_data"
    },
    {
     "name": "stdout",
     "output_type": "stream",
     "text": [
      "confusion matrix:\n",
      "[[300  25]\n",
      " [ 41 294]]\n",
      "()\n"
     ]
    },
    {
     "data": {
      "text/plain": [
       "('MultinomialNB',\n",
       " 0.90000000000000002,\n",
       " 0.0013380050659179688,\n",
       " 0.0002720355987548828)"
      ]
     },
     "execution_count": 391,
     "metadata": {},
     "output_type": "execute_result"
    }
   ],
   "source": [
    "from sklearn.naive_bayes import BernoulliNB, MultinomialNB\n",
    "clf = MultinomialNB()\n",
    "benchmark(clf, X, y, learn_curve=True)"
   ]
  },
  {
   "cell_type": "markdown",
   "metadata": {},
   "source": [
    "*We can also have a probability score for each document:**"
   ]
  },
  {
   "cell_type": "code",
   "execution_count": 261,
   "metadata": {
    "collapsed": false
   },
   "outputs": [
    {
     "data": {
      "text/plain": [
       "array([[ 0.67200116,  0.32799884]])"
      ]
     },
     "execution_count": 261,
     "metadata": {},
     "output_type": "execute_result"
    }
   ],
   "source": [
    "clf.predict_proba(X[2])"
   ]
  },
  {
   "cell_type": "markdown",
   "metadata": {},
   "source": [
    "**Second Classifier : **"
   ]
  },
  {
   "cell_type": "code",
   "execution_count": 398,
   "metadata": {
    "collapsed": false
   },
   "outputs": [
    {
     "name": "stdout",
     "output_type": "stream",
     "text": [
      "Score (optimiste) sur le train : [ 0.93   0.925  0.935  0.93   0.93   0.935  0.96   0.97   0.89   0.93 ]\n",
      "0.9335\n"
     ]
    }
   ],
   "source": [
    "from sklearn.ensemble import RandomForestClassifier\n",
    "from sklearn.linear_model import PassiveAggressiveClassifier\n",
    "clf4 = PassiveAggressiveClassifier()\n",
    "scores = cross_val_score(clf4,X,y, cv=10)\n",
    "print('Score (optimiste) sur le train : %s' % scores)\n",
    "print(scores.mean())"
   ]
  },
  {
   "cell_type": "markdown",
   "metadata": {},
   "source": [
    "##Construct best classifier among the two best text classifiers :"
   ]
  },
  {
   "cell_type": "code",
   "execution_count": 405,
   "metadata": {
    "collapsed": true
   },
   "outputs": [],
   "source": [
    "import pickle\n",
    "from sklearn.ensemble import VotingClassifier\n",
    "def bestclassifier(clfs, x_train, y_train):\n",
    "    \"\"\"\n",
    "    :param y_train: the labels of the training set\n",
    "    :param x_train: the training features\n",
    "    :param clfs: three best estimators choosen from previous methods\n",
    "    :return: pickle's address for the classifier constructed from the combination of classifiers using majority class voting\n",
    "    \"\"\"\n",
    "    vclf = VotingClassifier(estimators=clfs)\n",
    "    vclf.fit(x_train,y_train)\n",
    "    s = pickle.dumps(vclf)\n",
    "    return vclf,s"
   ]
  },
  {
   "cell_type": "code",
   "execution_count": 565,
   "metadata": {
    "collapsed": false
   },
   "outputs": [],
   "source": [
    "clf4 = PassiveAggressiveClassifier()\n",
    "clf = MultinomialNB()\n",
    "c,s=bestclassifier([('naivebayes',clf),('passiveagressive',clf4)],X,y)"
   ]
  },
  {
   "cell_type": "code",
   "execution_count": 566,
   "metadata": {
    "collapsed": false
   },
   "outputs": [
    {
     "name": "stdout",
     "output_type": "stream",
     "text": [
      "Score (optimiste) sur le train : [ 0.905  0.91   0.94   0.93   0.91   0.94   0.95   0.94   0.885  0.905]\n",
      "0.9215\n"
     ]
    }
   ],
   "source": [
    "scores = cross_val_score(c,X,y, cv=10)\n",
    "print('Score (optimiste) sur le train : %s' % scores)\n",
    "print(scores.mean())"
   ]
  },
  {
   "cell_type": "code",
   "execution_count": 570,
   "metadata": {
    "collapsed": false
   },
   "outputs": [
    {
     "data": {
      "text/plain": [
       "array([1])"
      ]
     },
     "execution_count": 570,
     "metadata": {},
     "output_type": "execute_result"
    }
   ],
   "source": [
    "c.predict(X[1900])"
   ]
  },
  {
   "cell_type": "markdown",
   "metadata": {},
   "source": [
    "##Group the code in a class \"Classifier\""
   ]
  },
  {
   "cell_type": "code",
   "execution_count": 488,
   "metadata": {
    "collapsed": false
   },
   "outputs": [
    {
     "name": "stdout",
     "output_type": "stream",
     "text": [
      "Extracting 3000 best features by a chi-squared test\n"
     ]
    }
   ],
   "source": [
    "X,vocabulary = count_words(texts,0.8,3)\n",
    "X,vocabulary = chi2_test(X,y,vocabulary,k=set_k(clf,X,y,vocabulary))"
   ]
  },
  {
   "cell_type": "code",
   "execution_count": 606,
   "metadata": {
    "collapsed": false
   },
   "outputs": [],
   "source": [
    "class NB(BaseEstimator, ClassifierMixin):\n",
    "    def __init__(self, alpha=1.0,C=1.0,loss=\"hinge\"):\n",
    "        self.alpha = alpha\n",
    "        self.C = C\n",
    "        self.loss = loss\n",
    "        \n",
    "    def fit(self, X, y):\n",
    "        c = MultinomialNB(self.alpha)\n",
    "        c1 = PassiveAggressiveClassifier(self.C)\n",
    "        clfs = [('naivebayes',c),('passiveagressive',c1)]\n",
    "        self,s=bestclassifier(clfs,X,y)\n",
    "        self.fit(X,y)\n",
    "        return self\n",
    "    \n",
    "    def predict(self, X):\n",
    "        pred = self.predict(X)\n",
    "        return pred\n",
    "    \n",
    "    def predict_proba(self,X):\n",
    "        return self.predict_proba(X)\n",
    "    \n",
    "    def score(self, X, y):\n",
    "        return np.mean(self.predict(X) == y)"
   ]
  },
  {
   "cell_type": "code",
   "execution_count": 613,
   "metadata": {
    "collapsed": false
   },
   "outputs": [],
   "source": [
    "N = NB(alpha=0.9,C=0.9)"
   ]
  },
  {
   "cell_type": "code",
   "execution_count": 614,
   "metadata": {
    "collapsed": false
   },
   "outputs": [
    {
     "data": {
      "text/plain": [
       "NB(C=0.9, alpha=0.9, loss='hinge')"
      ]
     },
     "execution_count": 614,
     "metadata": {},
     "output_type": "execute_result"
    }
   ],
   "source": [
    "N"
   ]
  },
  {
   "cell_type": "code",
   "execution_count": 615,
   "metadata": {
    "collapsed": false
   },
   "outputs": [],
   "source": [
    "N=N.fit(X,y)"
   ]
  },
  {
   "cell_type": "code",
   "execution_count": 616,
   "metadata": {
    "collapsed": false
   },
   "outputs": [
    {
     "data": {
      "text/plain": [
       "array([0, 0, 0, ..., 1, 1, 1])"
      ]
     },
     "execution_count": 616,
     "metadata": {},
     "output_type": "execute_result"
    }
   ],
   "source": [
    "N.predict(X)"
   ]
  },
  {
   "cell_type": "code",
   "execution_count": 617,
   "metadata": {
    "collapsed": false
   },
   "outputs": [
    {
     "name": "stdout",
     "output_type": "stream",
     "text": [
      "Score (optimiste) sur le train : [ 0.905  0.92   0.94   0.93   0.905  0.935  0.955  0.935  0.88   0.9  ]\n",
      "0.9205\n"
     ]
    }
   ],
   "source": [
    "scores = cross_val_score(N,X,y, cv=10)\n",
    "print('Score (optimiste) sur le train : %s' % scores)\n",
    "print(scores.mean())"
   ]
  },
  {
   "cell_type": "code",
   "execution_count": 618,
   "metadata": {
    "collapsed": false
   },
   "outputs": [
    {
     "name": "stdout",
     "output_type": "stream",
     "text": [
      "________________________________________________________________________________\n",
      "Training: \n",
      "VotingClassifier(estimators=[('naivebayes', MultinomialNB(alpha=0.9, class_prior=None, fit_prior=True)), ('passiveagressive', PassiveAggressiveClassifier(C=0.9, class_weight=None, fit_intercept=True,\n",
      "              loss='hinge', n_iter=5, n_jobs=1, random_state=None,\n",
      "              shuffle=True, verbose=0, warm_start=False))],\n",
      "         voting='hard', weights=None)\n",
      "train time: 0.004s\n",
      "test time:  0.004s\n",
      "accuracy:   0.900\n",
      "classification report:\n",
      "             precision    recall  f1-score   support\n",
      "\n",
      "          0       0.86      0.95      0.90       325\n",
      "          1       0.95      0.85      0.90       335\n",
      "\n",
      "avg / total       0.90      0.90      0.90       660\n",
      "\n",
      "learning curve:\n"
     ]
    },
    {
     "data": {
      "image/png": "[encoded data removed]",
      "text/plain": [
       "<matplotlib.figure.Figure at 0x11c648c10>"
      ]
     },
     "metadata": {},
     "output_type": "display_data"
    },
    {
     "name": "stdout",
     "output_type": "stream",
     "text": [
      "confusion matrix:\n",
      "[[309  16]\n",
      " [ 50 285]]\n",
      "()\n"
     ]
    },
    {
     "data": {
      "text/plain": [
       "('VotingClassifier',\n",
       " 0.90000000000000002,\n",
       " 0.004354000091552734,\n",
       " 0.0035598278045654297)"
      ]
     },
     "execution_count": 618,
     "metadata": {},
     "output_type": "execute_result"
    }
   ],
   "source": [
    "benchmark(N, X, y, learn_curve=True)"
   ]
  },
  {
   "cell_type": "code",
   "execution_count": null,
   "metadata": {
    "collapsed": true
   },
   "outputs": [],
   "source": []
  },
  {
   "cell_type": "code",
   "execution_count": 100,
   "metadata": {
    "collapsed": false
   },
   "outputs": [],
   "source": []
  },
  {
   "cell_type": "code",
   "execution_count": null,
   "metadata": {
    "collapsed": true
   },
   "outputs": [],
   "source": []
  },
  {
   "cell_type": "code",
   "execution_count": null,
   "metadata": {
    "collapsed": true
   },
   "outputs": [],
   "source": []
  }
 ],
 "metadata": {
  "anaconda-cloud": {},
  "kernelspec": {
   "display_name": "Python [default]",
   "language": "python",
   "name": "python2"
  },
  "language_info": {
   "codemirror_mode": {
    "name": "ipython",
    "version": 2
   },
   "file_extension": ".py",
   "mimetype": "text/x-python",
   "name": "python",
   "nbconvert_exporter": "python",
   "pygments_lexer": "ipython2",
   "version": "2.7.12"
  }
 },
 "nbformat": 4,
 "nbformat_minor": 0
}
