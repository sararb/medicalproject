{
 "cells": [
  {
   "cell_type": "markdown",
   "metadata": {},
   "source": [
    "# The text interpreter : "
   ]
  },
  {
   "cell_type": "markdown",
   "metadata": {},
   "source": [
    "The aim of this project is to be able to interpret the prediction made by a randomforest classifier applied to a text instance. \n",
    "\n",
    "The three main steps are : \n",
    "\n",
    "        - Preprocessing : \n",
    "- The code text_preprocessing.py allows us to load the dataframe (it has to contain the following columns : patient_id, review_text, Class.) \n",
    "- Furthermore, the user could choose which cleaning operations he wants: (simple cleaning or add a step of stemming the text)  \n",
    "- The code return three objects : \n",
    "    \n",
    "    - X : a vector of shape (number of existing review_text). Each row is the processed review doc. \n",
    "    - y : a vector of the (int ) labels.\n",
    "    - df: the original dataframe.         \n",
    "   \n",
    "\n",
    "          - Learning : \n",
    " \n",
    "          - Interpreting \n",
    "\n"
   ]
  },
  {
   "cell_type": "code",
   "execution_count": 1,
   "metadata": {
    "collapsed": false
   },
   "outputs": [],
   "source": [
    "from text_preprocessing import load_data_text, chunk_mot "
   ]
  },
  {
   "cell_type": "code",
   "execution_count": 2,
   "metadata": {
    "collapsed": false
   },
   "outputs": [
    {
     "name": "stdout",
     "output_type": "stream",
     "text": [
      "clean the reviews from noisy words and punctuations\n",
      "stemming the reviews\n"
     ]
    }
   ],
   "source": [
    "import text_preprocessing\n",
    "X_train, y, df  = text_preprocessing.main([\"-filepath\",'/Users/sara/Documents/pfe_sujets/text_interpreter/data.csv',\n",
    "                                           \"-ntlk_clean\", \"True\",\n",
    "                                            \"-str_clean\",\"True\"]) "
   ]
  },
  {
   "cell_type": "code",
   "execution_count": 10,
   "metadata": {
    "collapsed": false,
    "scrolled": false
   },
   "outputs": [
    {
     "data": {
      "text/html": [
       "<div>\n",
       "<table border=\"1\" class=\"dataframe\">\n",
       "  <thead>\n",
       "    <tr style=\"text-align: right;\">\n",
       "      <th></th>\n",
       "      <th>Unnamed: 0</th>\n",
       "      <th>Class</th>\n",
       "      <th>review_text</th>\n",
       "    </tr>\n",
       "  </thead>\n",
       "  <tbody>\n",
       "    <tr>\n",
       "      <th>0</th>\n",
       "      <td>0</td>\n",
       "      <td>alt.atheism</td>\n",
       "      <td>alt atheism faq atheist resources archive name...</td>\n",
       "    </tr>\n",
       "    <tr>\n",
       "      <th>1</th>\n",
       "      <td>1</td>\n",
       "      <td>alt.atheism</td>\n",
       "      <td>alt atheism faq introduction to atheism archiv...</td>\n",
       "    </tr>\n",
       "    <tr>\n",
       "      <th>2</th>\n",
       "      <td>2</td>\n",
       "      <td>alt.atheism</td>\n",
       "      <td>re gospel dating in article mimsy umd edu mang...</td>\n",
       "    </tr>\n",
       "    <tr>\n",
       "      <th>3</th>\n",
       "      <td>3</td>\n",
       "      <td>alt.atheism</td>\n",
       "      <td>re university violating separation of church s...</td>\n",
       "    </tr>\n",
       "    <tr>\n",
       "      <th>4</th>\n",
       "      <td>4</td>\n",
       "      <td>alt.atheism</td>\n",
       "      <td>re soc motss et al princeton axes matching fun...</td>\n",
       "    </tr>\n",
       "  </tbody>\n",
       "</table>\n",
       "</div>"
      ],
      "text/plain": [
       "   Unnamed: 0        Class                                        review_text\n",
       "0           0  alt.atheism  alt atheism faq atheist resources archive name...\n",
       "1           1  alt.atheism  alt atheism faq introduction to atheism archiv...\n",
       "2           2  alt.atheism  re gospel dating in article mimsy umd edu mang...\n",
       "3           3  alt.atheism  re university violating separation of church s...\n",
       "4           4  alt.atheism  re soc motss et al princeton axes matching fun..."
      ]
     },
     "execution_count": 10,
     "metadata": {},
     "output_type": "execute_result"
    }
   ],
   "source": [
    "df.head()"
   ]
  },
  {
   "cell_type": "code",
   "execution_count": 3,
   "metadata": {
    "collapsed": false
   },
   "outputs": [],
   "source": [
    "from learning_rf import learning_"
   ]
  },
  {
   "cell_type": "code",
   "execution_count": 6,
   "metadata": {
    "collapsed": false
   },
   "outputs": [
    {
     "name": "stdout",
     "output_type": "stream",
     "text": [
      "clean the reviews from noisy words and punctuations\n",
      "stemming the reviews\n"
     ]
    }
   ],
   "source": [
    "rf , feture_names = learning_('/Users/sara/Documents/pfe_sujets/text_interpreter/data.csv', 'True', 'True')"
   ]
  },
  {
   "cell_type": "code",
   "execution_count": null,
   "metadata": {
    "collapsed": true
   },
   "outputs": [],
   "source": []
  }
 ],
 "metadata": {
  "anaconda-cloud": {},
  "kernelspec": {
   "display_name": "Python 3",
   "language": "python",
   "name": "python3"
  },
  "language_info": {
   "codemirror_mode": {
    "name": "ipython",
    "version": 3
   },
   "file_extension": ".py",
   "mimetype": "text/x-python",
   "name": "python",
   "nbconvert_exporter": "python",
   "pygments_lexer": "ipython3",
   "version": "3.5.1"
  }
 },
 "nbformat": 4,
 "nbformat_minor": 2
}
