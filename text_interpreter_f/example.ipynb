{
 "cells": [
  {
   "cell_type": "markdown",
   "metadata": {},
   "source": [
    "# The text interpreter : "
   ]
  },
  {
   "cell_type": "markdown",
   "metadata": {},
   "source": [
    "The aim of this project is to be able to interpret the prediction made by a randomforest classifier applied to a text instance. \n",
    "\n",
    "The three main steps are : \n",
    "\n",
    "        - Preprocessing : \n",
    "- The code text_preprocessing.py allows us to load the dataframe (it has to contain the following columns : patient_id, review_text, Class.) \n",
    "- Furthermore, the user could choose which cleaning operations he wants: (simple cleaning or add a step of stemming the text)  \n",
    "- The code return three objects : \n",
    "    \n",
    "    - X : a vector of shape (number of existing review_text). Each row is the processed review doc. \n",
    "    - y : a vector of the (int ) labels.\n",
    "    - df: the original dataframe.         \n",
    "   \n",
    "\n",
    "          - Learning : \n",
    " \n",
    "          - Interpreting \n",
    "\n",
    "\n"
   ]
  },
  {
   "cell_type": "markdown",
   "metadata": {},
   "source": [
    "### Processing : "
   ]
  },
  {
   "cell_type": "code",
   "execution_count": 1,
   "metadata": {
    "collapsed": false
   },
   "outputs": [
    {
     "name": "stdout",
     "output_type": "stream",
     "text": [
      "clean the reviews from noisy words and punctuations\n",
      "stemming the reviews\n"
     ]
    }
   ],
   "source": [
    "import text_preprocessing\n",
    "text_train, y, df  = text_preprocessing.main([\"-filepath\",'/Users/sara/Documents/pfe_sujets/text_interpreter/data.csv',\n",
    "                                           \"-ntlk_clean\", \"True\",\n",
    "                                            \"-str_clean\",\"True\"]) "
   ]
  },
  {
   "cell_type": "code",
   "execution_count": 2,
   "metadata": {
    "collapsed": false
   },
   "outputs": [
    {
     "data": {
      "text/html": [
       "<div>\n",
       "<table border=\"1\" class=\"dataframe\">\n",
       "  <thead>\n",
       "    <tr style=\"text-align: right;\">\n",
       "      <th></th>\n",
       "      <th>Unnamed: 0</th>\n",
       "      <th>Class</th>\n",
       "      <th>review_text</th>\n",
       "    </tr>\n",
       "  </thead>\n",
       "  <tbody>\n",
       "    <tr>\n",
       "      <th>0</th>\n",
       "      <td>0</td>\n",
       "      <td>alt.atheism</td>\n",
       "      <td>alt atheism faq atheist resources archive name...</td>\n",
       "    </tr>\n",
       "    <tr>\n",
       "      <th>1</th>\n",
       "      <td>1</td>\n",
       "      <td>alt.atheism</td>\n",
       "      <td>alt atheism faq introduction to atheism archiv...</td>\n",
       "    </tr>\n",
       "    <tr>\n",
       "      <th>2</th>\n",
       "      <td>2</td>\n",
       "      <td>alt.atheism</td>\n",
       "      <td>re gospel dating in article mimsy umd edu mang...</td>\n",
       "    </tr>\n",
       "    <tr>\n",
       "      <th>3</th>\n",
       "      <td>3</td>\n",
       "      <td>alt.atheism</td>\n",
       "      <td>re university violating separation of church s...</td>\n",
       "    </tr>\n",
       "    <tr>\n",
       "      <th>4</th>\n",
       "      <td>4</td>\n",
       "      <td>alt.atheism</td>\n",
       "      <td>re soc motss et al princeton axes matching fun...</td>\n",
       "    </tr>\n",
       "  </tbody>\n",
       "</table>\n",
       "</div>"
      ],
      "text/plain": [
       "   Unnamed: 0        Class                                        review_text\n",
       "0           0  alt.atheism  alt atheism faq atheist resources archive name...\n",
       "1           1  alt.atheism  alt atheism faq introduction to atheism archiv...\n",
       "2           2  alt.atheism  re gospel dating in article mimsy umd edu mang...\n",
       "3           3  alt.atheism  re university violating separation of church s...\n",
       "4           4  alt.atheism  re soc motss et al princeton axes matching fun..."
      ]
     },
     "execution_count": 2,
     "metadata": {},
     "output_type": "execute_result"
    }
   ],
   "source": [
    "df.head()"
   ]
  },
  {
   "cell_type": "markdown",
   "metadata": {},
   "source": [
    "### Learning: "
   ]
  },
  {
   "cell_type": "code",
   "execution_count": 3,
   "metadata": {
    "collapsed": true
   },
   "outputs": [],
   "source": [
    "from learning_rf import learning_"
   ]
  },
  {
   "cell_type": "code",
   "execution_count": 4,
   "metadata": {
    "collapsed": true
   },
   "outputs": [],
   "source": [
    "from sklearn.ensemble import RandomForestClassifier\n",
    "rf = RandomForestClassifier(n_estimators=100, max_depth=25)\n",
    "rf , X, feature_names = learning_(rf, text_train, y, '/Users/sara/Documents/pfe_sujets/text_interpreter/random_forest_1')"
   ]
  },
  {
   "cell_type": "markdown",
   "metadata": {},
   "source": [
    "### Interpreting "
   ]
  },
  {
   "cell_type": "code",
   "execution_count": 5,
   "metadata": {
    "collapsed": true
   },
   "outputs": [],
   "source": [
    "from construct_tree_randomforest import build_infos"
   ]
  },
  {
   "cell_type": "code",
   "execution_count": 7,
   "metadata": {
    "collapsed": false,
    "scrolled": true
   },
   "outputs": [
    {
     "name": "stdout",
     "output_type": "stream",
     "text": [
      "Rules used to predict sample   (0, 706)\t0.0253070963241\n",
      "  (0, 1488)\t0.350963798175\n",
      "  (0, 8228)\t0.0118847549531\n",
      "  (0, 1489)\t0.544446423056\n",
      "  (0, 1192)\t0.0132356321294\n",
      "  (0, 15345)\t0.0087458821162\n",
      "  (0, 13061)\t0.00394612133795\n",
      "  (0, 14888)\t0.00712243350527\n",
      "  (0, 24859)\t0.00504068562008\n",
      "  (0, 16413)\t0.0112897512275\n",
      "  (0, 24550)\t0.0113268088156\n",
      "  (0, 8955)\t0.00615532214791\n",
      "  (0, 19192)\t0.158890325918\n",
      "  (0, 8869)\t0.00714655687466\n",
      "  (0, 24549)\t0.00368708854649\n",
      "  (0, 13392)\t0.0160937782351\n",
      "  (0, 16284)\t0.048312695566\n",
      "  (0, 3871)\t0.0821739482683\n",
      "  (0, 3305)\t0.0123469692644\n",
      "  (0, 25720)\t0.0361361677971\n",
      "  (0, 17074)\t0.0655020731096\n",
      "  (0, 9384)\t0.00282926080774\n",
      "  (0, 23804)\t0.0257494110394\n",
      "  (0, 9547)\t0.00690496173415\n",
      "  (0, 24743)\t0.00579307979117\n",
      "  :\t:\n",
      "  (0, 6068)\t0.00751148457355\n",
      "  (0, 6619)\t0.00730193584752\n",
      "  (0, 24574)\t0.00399353496594\n",
      "  (0, 16994)\t0.00798001115869\n",
      "  (0, 17928)\t0.0066258312776\n",
      "  (0, 12536)\t0.00443027836796\n",
      "  (0, 332)\t0.00933463767554\n",
      "  (0, 14789)\t0.00786692773685\n",
      "  (0, 4822)\t0.00706407988865\n",
      "  (0, 24976)\t0.00850050699541\n",
      "  (0, 1421)\t0.00688381754847\n",
      "  (0, 18147)\t0.00995238862884\n",
      "  (0, 6404)\t0.00666669406181\n",
      "  (0, 3453)\t0.00677962075515\n",
      "  (0, 222)\t0.0060647333217\n",
      "  (0, 9081)\t0.00715879479171\n",
      "  (0, 22522)\t0.00667502882037\n",
      "  (0, 24154)\t0.00926681702117\n",
      "  (0, 19203)\t0.00887337233527\n",
      "  (0, 8079)\t0.00659407321302\n",
      "  (0, 3668)\t0.00954346981165\n",
      "  (0, 8497)\t0.0057766287154\n",
      "  (0, 11197)\t0.00878041303299\n",
      "  (0, 23100)\t0.00341399810583\n",
      "  (0, 22771)\t0.00555955934802: \n"
     ]
    }
   ],
   "source": [
    "phrases, flag, classes, missing_words = build_infos(rf, X[1], feature_names)"
   ]
  },
  {
   "cell_type": "code",
   "execution_count": 11,
   "metadata": {
    "collapsed": false
   },
   "outputs": [
    {
     "data": {
      "text/plain": [
       "[u'display',\n",
       " u'anymor',\n",
       " u'mirror',\n",
       " u'int',\n",
       " u'nas',\n",
       " u'mountain',\n",
       " u'viewsonic',\n",
       " u'segment',\n",
       " u'xlib',\n",
       " u'auckland',\n",
       " u'began',\n",
       " u'wat',\n",
       " u'appliqu',\n",
       " u'nothing',\n",
       " u'scop',\n",
       " u'spenc',\n",
       " u'lc',\n",
       " u'flashing',\n",
       " u'head',\n",
       " u'peopl',\n",
       " u'gif',\n",
       " u'going',\n",
       " u'christian',\n",
       " u'zz']"
      ]
     },
     "execution_count": 11,
     "metadata": {},
     "output_type": "execute_result"
    }
   ],
   "source": [
    "phrases[9]"
   ]
  },
  {
   "cell_type": "code",
   "execution_count": 12,
   "metadata": {
    "collapsed": false,
    "scrolled": false
   },
   "outputs": [
    {
     "data": {
      "text/plain": [
       "{0: 0.0,\n",
       " 1: 0.0,\n",
       " 2: 7.0,\n",
       " 3: 15.0,\n",
       " 4: 15.0,\n",
       " 5: 12.0,\n",
       " 6: 0.0,\n",
       " 7: 0.0,\n",
       " 8: 0.0,\n",
       " 9: 15.0,\n",
       " 10: 0.0,\n",
       " 11: 0.0,\n",
       " 12: 0.0,\n",
       " 13: 0.0,\n",
       " 14: 15.0,\n",
       " 15: 15.0,\n",
       " 16: 0.0,\n",
       " 17: 15.0,\n",
       " 18: 7.0,\n",
       " 19: 15.0,\n",
       " 20: 0.0,\n",
       " 21: 15.0,\n",
       " 22: 11.0,\n",
       " 23: 0.0,\n",
       " 24: 0.0,\n",
       " 25: 0.0,\n",
       " 26: 15.0,\n",
       " 27: 0.0,\n",
       " 28: 0.0,\n",
       " 29: 18.0,\n",
       " 30: 0.0,\n",
       " 31: 0.0,\n",
       " 32: 0.0,\n",
       " 33: 0.0,\n",
       " 34: 0.0,\n",
       " 35: 16.0,\n",
       " 36: 0.0,\n",
       " 37: 0.0,\n",
       " 38: 8.0,\n",
       " 39: 15.0,\n",
       " 40: 0.0,\n",
       " 41: 0.0,\n",
       " 42: 0.0,\n",
       " 43: 0.0,\n",
       " 44: 0.0,\n",
       " 45: 15.0,\n",
       " 46: 0.0,\n",
       " 47: 0.0,\n",
       " 48: 0.0,\n",
       " 49: 0.0,\n",
       " 50: 0.0,\n",
       " 51: 0.0,\n",
       " 52: 0.0,\n",
       " 53: 0.0,\n",
       " 54: 11.0,\n",
       " 55: 0.0,\n",
       " 56: 19.0,\n",
       " 57: 15.0,\n",
       " 58: 15.0,\n",
       " 59: 15.0,\n",
       " 60: 0.0,\n",
       " 61: 0.0,\n",
       " 62: 0.0,\n",
       " 63: 0.0,\n",
       " 64: 0.0,\n",
       " 65: 0.0,\n",
       " 66: 15.0,\n",
       " 67: 0.0,\n",
       " 68: 0.0,\n",
       " 69: 0.0,\n",
       " 70: 15.0,\n",
       " 71: 0.0,\n",
       " 72: 0.0,\n",
       " 73: 15.0,\n",
       " 74: 0.0,\n",
       " 75: 0.0,\n",
       " 76: 19.0,\n",
       " 77: 0.0,\n",
       " 78: 0.0,\n",
       " 79: 12.0,\n",
       " 80: 0.0,\n",
       " 81: 0.0,\n",
       " 82: 13.0,\n",
       " 83: 0.0,\n",
       " 84: 0.0,\n",
       " 85: 18.0,\n",
       " 86: 13.0,\n",
       " 87: 0.0,\n",
       " 88: 0.0,\n",
       " 89: 0.0,\n",
       " 90: 0.0,\n",
       " 91: 0.0,\n",
       " 92: 0.0,\n",
       " 93: 17.0,\n",
       " 94: 19.0,\n",
       " 95: 15.0,\n",
       " 96: 15.0,\n",
       " 97: 0.0,\n",
       " 98: 15.0,\n",
       " 99: 0.0}"
      ]
     },
     "execution_count": 12,
     "metadata": {},
     "output_type": "execute_result"
    }
   ],
   "source": [
    "classes"
   ]
  },
  {
   "cell_type": "code",
   "execution_count": 14,
   "metadata": {
    "collapsed": false
   },
   "outputs": [
    {
     "data": {
      "text/plain": [
       "322"
      ]
     },
     "execution_count": 14,
     "metadata": {},
     "output_type": "execute_result"
    }
   ],
   "source": [
    "len(missing_words[9])"
   ]
  },
  {
   "cell_type": "code",
   "execution_count": null,
   "metadata": {
    "collapsed": true
   },
   "outputs": [],
   "source": []
  }
 ],
 "metadata": {
  "anaconda-cloud": {},
  "kernelspec": {
   "display_name": "Python [default]",
   "language": "python",
   "name": "python2"
  },
  "language_info": {
   "codemirror_mode": {
    "name": "ipython",
    "version": 2
   },
   "file_extension": ".py",
   "mimetype": "text/x-python",
   "name": "python",
   "nbconvert_exporter": "python",
   "pygments_lexer": "ipython2",
   "version": "2.7.12"
  }
 },
 "nbformat": 4,
 "nbformat_minor": 2
}
