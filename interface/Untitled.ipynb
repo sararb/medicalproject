{
 "cells": [
  {
   "cell_type": "code",
   "execution_count": 2,
   "metadata": {},
   "outputs": [
    {
     "ename": "SyntaxError",
     "evalue": "Non-ASCII character '\\xc3' in file /home/sebastien/PycharmProjects/PFE/medicalproject/interface/Tkinter_Interface.py on line 12, but no encoding declared; see http://python.org/dev/peps/pep-0263/ for details (Tkinter_Interface.py, line 12)",
     "traceback": [
      "\u001b[0;36m  File \u001b[0;32m\"/home/sebastien/PycharmProjects/PFE/medicalproject/interface/Tkinter_Interface.py\"\u001b[0;36m, line \u001b[0;32m12\u001b[0m\n\u001b[0;31m    self.bu1[\"text\"] = \"Importer des données\"\u001b[0m\n\u001b[0m                                             ^\u001b[0m\n\u001b[0;31mSyntaxError\u001b[0m\u001b[0;31m:\u001b[0m Non-ASCII character '\\xc3' in file /home/sebastien/PycharmProjects/PFE/medicalproject/interface/Tkinter_Interface.py on line 12, but no encoding declared; see http://python.org/dev/peps/pep-0263/ for details\n"
     ],
     "output_type": "error"
    }
   ],
   "source": [
    "run Tkinter_Interface.py"
   ]
  },
  {
   "cell_type": "code",
   "execution_count": 1,
   "metadata": {},
   "outputs": [
    {
     "data": {
      "text/plain": [
       "u'/home/sebastien/PycharmProjects/PFE/medicalproject/interface'"
      ]
     },
     "execution_count": 1,
     "metadata": {},
     "output_type": "execute_result"
    }
   ],
   "source": [
    "pwd"
   ]
  },
  {
   "cell_type": "markdown",
   "metadata": {
    "collapsed": true
   },
   "source": [
    ""
   ]
  }
 ],
 "metadata": {
  "kernelspec": {
   "display_name": "Python 2",
   "language": "python",
   "name": "python2"
  },
  "language_info": {
   "codemirror_mode": {
    "name": "ipython",
    "version": 2.0
   },
   "file_extension": ".py",
   "mimetype": "text/x-python",
   "name": "python",
   "nbconvert_exporter": "python",
   "pygments_lexer": "ipython2",
   "version": "2.7.12"
  }
 },
 "nbformat": 4,
 "nbformat_minor": 0
}